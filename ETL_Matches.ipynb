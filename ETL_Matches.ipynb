{
 "cells": [
  {
   "cell_type": "code",
   "execution_count": 2,
   "metadata": {},
   "outputs": [],
   "source": [
    "# Dependencies and Setup\n",
    "import matplotlib.pyplot as plt\n",
    "import pandas as pd\n",
    "import numpy as np\n",
    "\n",
    "import json\n",
    "import os\n",
    "import scandir"
   ]
  },
  {
   "cell_type": "code",
   "execution_count": 3,
   "metadata": {},
   "outputs": [],
   "source": [
    "#Read JSON into object to evaluate\n",
    "\n",
    "# read file\n",
    "with open('30.json', 'r') as match_file:\n",
    "    data=match_file.read()\n",
    "\n",
    "# parse file\n",
    "obj = json.loads(data)\n",
    "#parsed_json = json.loads(json_string)"
   ]
  },
  {
   "cell_type": "code",
   "execution_count": 4,
   "metadata": {},
   "outputs": [
    {
     "name": "stdout",
     "output_type": "stream",
     "text": [
      "52\n"
     ]
    }
   ],
   "source": [
    "print(len(obj))"
   ]
  },
  {
   "cell_type": "code",
   "execution_count": 5,
   "metadata": {},
   "outputs": [
    {
     "name": "stdout",
     "output_type": "stream",
     "text": [
      "22930\n",
      "2019-06-08\n",
      "Women's World Cup\n",
      "Spain Women's\n",
      "South Africa Women's\n"
     ]
    }
   ],
   "source": [
    "#Some information that can be pulled from match JSON files\n",
    "\n",
    "print(obj[0].get('match_id'))\n",
    "print(obj[0].get('match_date'))\n",
    "print(obj[0]['competition'].get('competition_name'))\n",
    "\n",
    "print(obj[0]['home_team'].get('home_team_name'))\n",
    "print(obj[0]['away_team'].get('away_team_name'))\n",
    "\n"
   ]
  },
  {
   "cell_type": "code",
   "execution_count": 6,
   "metadata": {},
   "outputs": [
    {
     "name": "stdout",
     "output_type": "stream",
     "text": [
      "52\n"
     ]
    }
   ],
   "source": [
    "match_numbers = []\n",
    "\n",
    "for i in range(0,(len(obj))):\n",
    "    match_numbers.append(obj[i]['match_id'])\n",
    "print(len(match_numbers))"
   ]
  },
  {
   "cell_type": "code",
   "execution_count": 7,
   "metadata": {},
   "outputs": [],
   "source": [
    "#for match in obj:\n",
    "    #print (obj[0].get('match_id'))"
   ]
  },
  {
   "cell_type": "code",
   "execution_count": 8,
   "metadata": {},
   "outputs": [
    {
     "name": "stdout",
     "output_type": "stream",
     "text": [
      "b'./test\\\\3.json'\n",
      "b'./test\\\\30.json'\n"
     ]
    }
   ],
   "source": [
    "directory = os.fsencode(\"./test\")\n",
    "\n",
    "for filename in os.listdir(directory):\n",
    "    print(os.path.join(directory,filename))"
   ]
  },
  {
   "cell_type": "code",
   "execution_count": 9,
   "metadata": {},
   "outputs": [
    {
     "name": "stdout",
     "output_type": "stream",
     "text": [
      "88\n"
     ]
    }
   ],
   "source": [
    "#Read multiple files within one directory and extract match_numbers from JSON\n",
    "\n",
    "match_numbers= []\n",
    "\n",
    "directory = os.fsencode(\"./test\")\n",
    "\n",
    "for filename in os.listdir(directory):\n",
    "    with open(filename, 'r') as match_file:\n",
    "        data=match_file.read()\n",
    "        obj = json.loads(data)\n",
    "    \n",
    "    for i in range(0,(len(obj))):\n",
    "        match_numbers.append(obj[i]['match_id'])\n",
    "        \n",
    "        \n",
    "print(len(match_numbers))    "
   ]
  },
  {
   "cell_type": "code",
   "execution_count": 12,
   "metadata": {},
   "outputs": [
    {
     "name": "stdout",
     "output_type": "stream",
     "text": [
      "17\n",
      "['../open-data-master/data/matches/11\\\\21.json', '../open-data-master/data/matches/11\\\\22.json', '../open-data-master/data/matches/11\\\\23.json', '../open-data-master/data/matches/11\\\\24.json', '../open-data-master/data/matches/11\\\\25.json', '../open-data-master/data/matches/11\\\\26.json', '../open-data-master/data/matches/11\\\\27.json', '../open-data-master/data/matches/11\\\\37.json', '../open-data-master/data/matches/11\\\\38.json', '../open-data-master/data/matches/11\\\\39.json', '../open-data-master/data/matches/11\\\\40.json', '../open-data-master/data/matches/11\\\\41.json', '../open-data-master/data/matches/37\\\\4.json', '../open-data-master/data/matches/37\\\\42.json', '../open-data-master/data/matches/43\\\\3.json', '../open-data-master/data/matches/49\\\\3.json', '../open-data-master/data/matches/72\\\\30.json']\n"
     ]
    }
   ],
   "source": [
    "#Test 1 - Listing all files to be analyzed across multiple directories\n",
    "#Populate variable file_list path and file name\n",
    "#Use this list of files to parse the JSON\n",
    "\n",
    "rootdir = \"../open-data-master/data/matches/\"\n",
    "\n",
    "file_list=[]\n",
    "\n",
    "for paths, dir, files in scandir.walk(rootdir):\n",
    "    for file in files:\n",
    "        if file.endswith(\".json\"):\n",
    "            file_list.append(os.path.join(paths, file))\n",
    "\n",
    "print (len(file_list))\n",
    "print(file_list)"
   ]
  },
  {
   "cell_type": "code",
   "execution_count": 16,
   "metadata": {},
   "outputs": [
    {
     "name": "stdout",
     "output_type": "stream",
     "text": [
      "6\n",
      "../open-data-master/data/matches/../open-data-master/data/matches\\30.json\n"
     ]
    }
   ],
   "source": [
    "#Test 2 - Yet another failure\n",
    "\n",
    "rootdir = \"../open-data-master/data/matches/\"\n",
    "\n",
    "file_list=[]\n",
    "\n",
    "for paths, dir, files in scandir.walk(rootdir):\n",
    "    file_list.append(os.path.join(paths, file))\n",
    "\n",
    "print (len(file_list))\n",
    "print(file_list[0])"
   ]
  },
  {
   "cell_type": "code",
   "execution_count": 14,
   "metadata": {},
   "outputs": [
    {
     "ename": "FileNotFoundError",
     "evalue": "[WinError 3] The system cannot find the path specified: b'../open-data-master/data/matches\\\\30.json'",
     "output_type": "error",
     "traceback": [
      "\u001b[1;31m---------------------------------------------------------------------------\u001b[0m",
      "\u001b[1;31mFileNotFoundError\u001b[0m                         Traceback (most recent call last)",
      "\u001b[1;32m<ipython-input-14-b32edf269d23>\u001b[0m in \u001b[0;36m<module>\u001b[1;34m\u001b[0m\n\u001b[0;32m     13\u001b[0m     \u001b[0mdirectory\u001b[0m \u001b[1;33m=\u001b[0m \u001b[0mos\u001b[0m\u001b[1;33m.\u001b[0m\u001b[0mfsencode\u001b[0m\u001b[1;33m(\u001b[0m\u001b[0mfile\u001b[0m\u001b[1;33m)\u001b[0m\u001b[1;33m\u001b[0m\u001b[1;33m\u001b[0m\u001b[0m\n\u001b[0;32m     14\u001b[0m \u001b[1;33m\u001b[0m\u001b[0m\n\u001b[1;32m---> 15\u001b[1;33m     \u001b[1;32mfor\u001b[0m \u001b[0mfilename\u001b[0m \u001b[1;32min\u001b[0m \u001b[0mos\u001b[0m\u001b[1;33m.\u001b[0m\u001b[0mlistdir\u001b[0m\u001b[1;33m(\u001b[0m\u001b[0mdirectory\u001b[0m\u001b[1;33m)\u001b[0m\u001b[1;33m:\u001b[0m\u001b[1;33m\u001b[0m\u001b[1;33m\u001b[0m\u001b[0m\n\u001b[0m\u001b[0;32m     16\u001b[0m         \u001b[1;32mwith\u001b[0m \u001b[0mopen\u001b[0m\u001b[1;33m(\u001b[0m\u001b[0mfilename\u001b[0m\u001b[1;33m,\u001b[0m \u001b[1;34m'r'\u001b[0m\u001b[1;33m)\u001b[0m \u001b[1;32mas\u001b[0m \u001b[0mmatch_file\u001b[0m\u001b[1;33m:\u001b[0m\u001b[1;33m\u001b[0m\u001b[1;33m\u001b[0m\u001b[0m\n\u001b[0;32m     17\u001b[0m             \u001b[0mdata\u001b[0m\u001b[1;33m=\u001b[0m\u001b[0mmatch_file\u001b[0m\u001b[1;33m.\u001b[0m\u001b[0mread\u001b[0m\u001b[1;33m(\u001b[0m\u001b[1;33m)\u001b[0m\u001b[1;33m\u001b[0m\u001b[1;33m\u001b[0m\u001b[0m\n",
      "\u001b[1;31mFileNotFoundError\u001b[0m: [WinError 3] The system cannot find the path specified: b'../open-data-master/data/matches\\\\30.json'"
     ]
    }
   ],
   "source": [
    "#Combining directory walk and path/file list to evaluate JSON\n",
    "\n",
    "rootdir = \"../open-data-master/data/matches\"\n",
    "\n",
    "file_list=[]\n",
    "\n",
    "for paths, dirs, files in scandir.walk(rootdir):\n",
    "    if file.endswith(\".json\"):\n",
    "        file_list.append(os.path.join(paths,file))\n",
    "\n",
    "\n",
    "match_numbers= []\n",
    "\n",
    "for file in file_list:\n",
    "    directory = os.fsencode(file)\n",
    "\n",
    "    for filename in os.listdir(directory):\n",
    "        with open(filename, 'r') as match_file:\n",
    "            data=match_file.read()\n",
    "            obj = json.loads(data)\n",
    "    \n",
    "        for i in range(0,(len(obj))):\n",
    "            match_numbers.append(obj[i]['match_id'])\n",
    "        \n",
    "        \n",
    "print(len(match_numbers))    "
   ]
  },
  {
   "cell_type": "code",
   "execution_count": null,
   "metadata": {},
   "outputs": [],
   "source": []
  }
 ],
 "metadata": {
  "kernelspec": {
   "display_name": "Python 3",
   "language": "python",
   "name": "python3"
  },
  "language_info": {
   "codemirror_mode": {
    "name": "ipython",
    "version": 3
   },
   "file_extension": ".py",
   "mimetype": "text/x-python",
   "name": "python",
   "nbconvert_exporter": "python",
   "pygments_lexer": "ipython3",
   "version": "3.7.3"
  }
 },
 "nbformat": 4,
 "nbformat_minor": 4
}
